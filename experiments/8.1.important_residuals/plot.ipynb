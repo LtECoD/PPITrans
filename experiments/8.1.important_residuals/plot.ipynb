{
 "cells": [
  {
   "cell_type": "code",
   "execution_count": null,
   "metadata": {},
   "outputs": [],
   "source": [
    "import os\n",
    "import random\n",
    "import argparse\n",
    "import pickle\n",
    "import numpy as np\n",
    "import matplotlib\n",
    "import matplotlib.pyplot as plt\n",
    "\n",
    "font_path = \"/Users/ys/Library/Fonts/Cambria.ttf\"\n",
    "font = matplotlib.font_manager.FontProperties(fname=font_path)\n",
    "\n",
    "from matplotlib import rc\n",
    "rc('font',**{'family':'sans-serif'})"
   ]
  },
  {
   "cell_type": "code",
   "execution_count": null,
   "metadata": {},
   "outputs": [],
   "source": [
    "pns = []\n",
    "poss = []\n",
    "negs = []\n",
    "pos_probs = []\n",
    "neg_probs = []\n",
    "\n",
    "for fp in os.listdir(\"./tmpdata\"):\n",
    "    with open(os.path.join(\"./tmpdata\", fp), \"rb\") as f:\n",
    "        pn, poscm, negcm, posp, negp = pickle.load(f)\n",
    "    pns.append(pn)\n",
    "    poss.append(poscm)\n",
    "    negs.append(negcm)\n",
    "    pos_probs.append(posp)\n",
    "    neg_probs.append(negp)"
   ]
  },
  {
   "cell_type": "code",
   "execution_count": null,
   "metadata": {},
   "outputs": [],
   "source": [
    "seed = 10\n",
    "idx = random.choice(range(len(pns)))\n",
    "\n",
    "pos_pros = pos_probs[idx]\n",
    "pos_cms = poss[idx]\n",
    "neg_pros = neg_probs[idx]\n",
    "neg_cms = negs[idx]\n",
    "pn = pns[idx]\n",
    "\n",
    "fig, subs = plt.subplots(nrows=2, ncols=5, figsize=(15, 5))\n",
    "plt.subplots_adjust(left=None, bottom=None, right=None, top=None, wspace=0.3, hspace=0.7)\n",
    "for idx, p in enumerate(pos_pros):\n",
    "    subs[0][idx].imshow(pos_cms[idx], cmap=\"Blues\")\n",
    "    subs[0][idx].set_xlabel(p.name)\n",
    "    subs[0][idx].set_title(f\"P={round(float(pos_probs[idx][1]), 3)}\")\n",
    "for idx, p in enumerate(neg_pros):\n",
    "    subs[1][idx].imshow(neg_cms[idx], cmap=\"BuGn\")\n",
    "    subs[1][idx].set_xlabel(p.name)\n",
    "    subs[1][idx].set_title(f\"P={round(float(neg_probs[idx][1]), 3)}\")\n",
    "\n",
    "plt.savefig(f\"{pn}-importance.pdf\", bbox_inches='tight')\n",
    "\n"
   ]
  }
 ],
 "metadata": {
  "language_info": {
   "name": "python"
  },
  "orig_nbformat": 4
 },
 "nbformat": 4,
 "nbformat_minor": 2
}

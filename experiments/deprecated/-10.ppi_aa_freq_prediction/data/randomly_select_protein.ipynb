{
 "cells": [
  {
   "cell_type": "code",
   "execution_count": 1,
   "metadata": {},
   "outputs": [
    {
     "name": "stderr",
     "output_type": "stream",
     "text": [
      "/home/ys/anaconda3/envs/workspace/lib/python3.8/site-packages/tqdm/auto.py:22: TqdmWarning: IProgress not found. Please update jupyter and ipywidgets. See https://ipywidgets.readthedocs.io/en/stable/user_install.html\n",
      "  from .autonotebook import tqdm as notebook_tqdm\n"
     ]
    }
   ],
   "source": [
    "import os\n",
    "import random\n",
    "from collections import defaultdict\n",
    "os.chdir(\"/home/ys/ExplainablePPI\")\n",
    "from experiments.utils import organisms\n",
    "\n",
    "random.seed(100)"
   ]
  },
  {
   "cell_type": "code",
   "execution_count": 2,
   "metadata": {},
   "outputs": [],
   "source": [
    "def get_pairs(pair_dir, k):\n",
    "    pairs = defaultdict(list)\n",
    "    for orga in organisms:\n",
    "        #读取pair\n",
    "        orga_pair_fp = os.path.join(pair_dir, orga+\"_test.tsv\")\n",
    "        lines = open(orga_pair_fp, \"r\").readlines()\n",
    "        pos_lines = [l for l in lines if l.strip()[-1] == '1']\n",
    "        pairs[orga] = random.sample(pos_lines, k=k)\n",
    "    return pairs\n",
    "\n",
    "def get_seqs(seq_dir, pairs):\n",
    "    # 读取 seq\n",
    "    seqs = defaultdict(list)\n",
    "    for orga in organisms:\n",
    "        orga_fasta_fp = os.path.join(seq_dir, orga+\"_test.fasta\")\n",
    "        lines = open(orga_fasta_fp, \"r\").readlines()\n",
    "        orga_seq_dict = dict([l.strip().split() for l in lines])\n",
    "        pros = set([])\n",
    "        for p in pairs[orga]:\n",
    "            fpro, spro, _ = p.strip().split()\n",
    "            pros.add(fpro)\n",
    "            pros.add(spro)\n",
    "        seqs[orga] = [f\"{pro}\\t{orga_seq_dict[pro]}\\n\" for pro in pros]\n",
    "    return seqs"
   ]
  },
  {
   "cell_type": "code",
   "execution_count": 3,
   "metadata": {},
   "outputs": [],
   "source": [
    "seq_dir = \"./data/dscript/processed/seqs\"\n",
    "pair_dir = \"./data/dscript/processed/pairs\"\n",
    "\n",
    "#! todo 会选出重复的样本，需要纠正\n",
    "pairs = get_pairs(pair_dir=pair_dir, k=2000)\n",
    "train_pairs = {}\n",
    "test_pairs = {}\n",
    "for orga in pairs:\n",
    "    random.shuffle(pairs[orga])\n",
    "    train_pairs[orga] = pairs[orga][:1600]\n",
    "    test_pairs[orga] = pairs[orga][1600:]\n",
    "\n",
    "train_seqs = get_seqs(seq_dir=seq_dir, pairs=train_pairs)\n",
    "test_seqs = get_seqs(seq_dir=seq_dir, pairs=test_pairs)\n",
    "\n",
    "os.makedirs(\"./experiments/10.ppi_aa_freq_prediction/data/train\", exist_ok=True)\n",
    "os.makedirs(\"./experiments/10.ppi_aa_freq_prediction/data/test\", exist_ok=True)\n",
    "\n",
    "for orga in organisms:\n",
    "    with open(f\"./experiments/10.ppi_aa_freq_prediction/data/test/{orga}.seq\", \"w\") as f:\n",
    "        f.writelines(test_seqs[orga])\n",
    "    with open(f\"./experiments/10.ppi_aa_freq_prediction/data/test/{orga}.tsv\", \"w\") as f:\n",
    "        f.writelines(test_pairs[orga])\n",
    "\n",
    "    with open(f\"./experiments/10.ppi_aa_freq_prediction/data/train/{orga}.seq\", \"w\") as f:\n",
    "        f.writelines(train_seqs[orga])\n",
    "    with open(f\"./experiments/10.ppi_aa_freq_prediction/data/train/{orga}.tsv\", \"w\") as f:\n",
    "        f.writelines(train_pairs[orga])\n"
   ]
  }
 ],
 "metadata": {
  "interpreter": {
   "hash": "d87a92dc5e820933ce1158afb1b057ba0389716ff9ef4f91230a9bbd9be5ff60"
  },
  "kernelspec": {
   "display_name": "Python 3.8.12 ('workspace')",
   "language": "python",
   "name": "python3"
  },
  "language_info": {
   "codemirror_mode": {
    "name": "ipython",
    "version": 3
   },
   "file_extension": ".py",
   "mimetype": "text/x-python",
   "name": "python",
   "nbconvert_exporter": "python",
   "pygments_lexer": "ipython3",
   "version": "3.8.13"
  },
  "orig_nbformat": 4
 },
 "nbformat": 4,
 "nbformat_minor": 2
}

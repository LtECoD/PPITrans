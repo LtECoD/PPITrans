{
 "cells": [
  {
   "cell_type": "code",
   "execution_count": 1,
   "metadata": {},
   "outputs": [
    {
     "name": "stderr",
     "output_type": "stream",
     "text": [
      "/home/ys/anaconda3/envs/workspace/lib/python3.8/site-packages/tqdm/auto.py:22: TqdmWarning: IProgress not found. Please update jupyter and ipywidgets. See https://ipywidgets.readthedocs.io/en/stable/user_install.html\n",
      "  from .autonotebook import tqdm as notebook_tqdm\n"
     ]
    }
   ],
   "source": [
    "import os\n",
    "import re\n",
    "import random\n",
    "from collections import defaultdict\n",
    "os.chdir(\"/home/ys/ExplainablePPI\")\n",
    "from experiments.utils import organisms\n",
    "\n",
    "random.seed(100)"
   ]
  },
  {
   "cell_type": "code",
   "execution_count": 2,
   "metadata": {},
   "outputs": [],
   "source": [
    "def get_proteins(seq_dir, k):\n",
    "    \"\"\"读取氨基酸、序列，以及互作的氨基酸，并按照物种划分好\"\"\"\n",
    "    proteins = defaultdict(list)\n",
    "    for orga in organisms:\n",
    "        # 序列文件\n",
    "        orga_fasta_fp = os.path.join(seq_dir, orga+\"_test.fasta\")\n",
    "        lines = open(orga_fasta_fp, \"r\").readlines()\n",
    "        selected_lines = random.sample(lines, k=min(len(lines), k))\n",
    "        proteins[orga] = selected_lines\n",
    "\n",
    "    return proteins"
   ]
  },
  {
   "cell_type": "code",
   "execution_count": 3,
   "metadata": {},
   "outputs": [],
   "source": [
    "seq_dir = \"./data/dscript/processed/seqs\"\n",
    "\n",
    "proteins = get_proteins(seq_dir=seq_dir, k=2000)\n",
    "train_proteins = {}\n",
    "test_proteins = {}\n",
    "for orga in proteins:\n",
    "    train_proteins[orga] = proteins[orga][:1600]\n",
    "    test_proteins[orga] = proteins[orga][1600:]\n",
    "\n",
    "os.makedirs(\"./experiments/5.organism_classify/data/train\", exist_ok=True)\n",
    "os.makedirs(\"./experiments/5.organism_classify/data/test\", exist_ok=True)\n",
    "\n",
    "for orga in train_proteins:\n",
    "    orga_lines = train_proteins[orga]\n",
    "    with open(f\"./experiments/5.organism_classify/data/train/{orga}.seq\", \"w\") as f:\n",
    "        f.writelines(orga_lines)\n",
    "\n",
    "for orga in test_proteins:\n",
    "    orga_lines = test_proteins[orga]\n",
    "    with open(f\"./experiments/5.organism_classify/data/test/{orga}.seq\", \"w\") as f:\n",
    "        f.writelines(orga_lines)\n",
    "\n"
   ]
  }
 ],
 "metadata": {
  "interpreter": {
   "hash": "d87a92dc5e820933ce1158afb1b057ba0389716ff9ef4f91230a9bbd9be5ff60"
  },
  "kernelspec": {
   "display_name": "Python 3.8.12 ('workspace')",
   "language": "python",
   "name": "python3"
  },
  "language_info": {
   "codemirror_mode": {
    "name": "ipython",
    "version": 3
   },
   "file_extension": ".py",
   "mimetype": "text/x-python",
   "name": "python",
   "nbconvert_exporter": "python",
   "pygments_lexer": "ipython3",
   "version": "3.8.13"
  },
  "orig_nbformat": 4
 },
 "nbformat": 4,
 "nbformat_minor": 2
}

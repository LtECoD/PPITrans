{
 "cells": [
  {
   "cell_type": "code",
   "execution_count": 26,
   "metadata": {},
   "outputs": [],
   "source": [
    "import os\n",
    "import re\n",
    "import random\n",
    "from collections import defaultdict\n",
    "os.chdir(\"/home/ys/ExplainablePPI\")\n",
    "from experiments.utils import organisms\n",
    "\n",
    "random.seed(100)"
   ]
  },
  {
   "cell_type": "code",
   "execution_count": 27,
   "metadata": {},
   "outputs": [],
   "source": [
    "def get_proteins(seq_dir, k, split=None):\n",
    "    \"\"\"读取氨基酸序列\"\"\"\n",
    "    if split is None:\n",
    "        proteins = defaultdict(list)\n",
    "        for orga in organisms:\n",
    "            # 序列文件\n",
    "            orga_fasta_fp = os.path.join(seq_dir, orga+\"_test.fasta\")\n",
    "            lines = open(orga_fasta_fp, \"r\").readlines()\n",
    "            selected_lines = random.sample(lines, k=min(len(lines), k))\n",
    "            proteins[orga] = selected_lines\n",
    "    else:\n",
    "        fasta_fp = os.path.join(seq_dir, split+\".fasta\")\n",
    "        lines = open(fasta_fp, \"r\").readlines()\n",
    "        selected_lines = random.sample(lines, k=min(len(lines), k))\n",
    "        proteins = selected_lines\n",
    "\n",
    "    return proteins"
   ]
  },
  {
   "cell_type": "code",
   "execution_count": 28,
   "metadata": {},
   "outputs": [],
   "source": [
    "seq_dir = \"./data/dscript/processed/seqs\"\n",
    "\n",
    "train_proteins = get_proteins(seq_dir=seq_dir, k=400, split=\"human_train\")\n",
    "test_proteins = get_proteins(seq_dir=seq_dir, k=100)\n",
    "\n",
    "os.makedirs(\"./experiments/1.acid_classify/data/train\", exist_ok=True)\n",
    "os.makedirs(\"./experiments/1.acid_classify/data/test\", exist_ok=True)\n",
    "\n",
    "with open(f\"./experiments/1.acid_classify/data/train/human_train.seq\", \"w\") as f:\n",
    "    f.writelines(train_proteins)\n",
    "\n",
    "for orga in test_proteins:\n",
    "    orga_lines = test_proteins[orga]\n",
    "    with open(f\"./experiments/1.acid_classify/data/test/{orga}_test.seq\", \"w\") as f:\n",
    "        f.writelines(orga_lines)\n",
    "\n"
   ]
  }
 ],
 "metadata": {
  "interpreter": {
   "hash": "d87a92dc5e820933ce1158afb1b057ba0389716ff9ef4f91230a9bbd9be5ff60"
  },
  "kernelspec": {
   "display_name": "Python 3.8.12 ('workspace')",
   "language": "python",
   "name": "python3"
  },
  "language_info": {
   "codemirror_mode": {
    "name": "ipython",
    "version": 3
   },
   "file_extension": ".py",
   "mimetype": "text/x-python",
   "name": "python",
   "nbconvert_exporter": "python",
   "pygments_lexer": "ipython3",
   "version": "3.8.13"
  },
  "orig_nbformat": 4
 },
 "nbformat": 4,
 "nbformat_minor": 2
}

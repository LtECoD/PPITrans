{
 "cells": [
  {
   "cell_type": "code",
   "execution_count": 2,
   "metadata": {},
   "outputs": [],
   "source": [
    "import os\n",
    "import re\n",
    "import random\n",
    "from collections import defaultdict\n",
    "os.chdir(\"/home/ys/ExplainablePPI\")\n",
    "from experiments.utils import organisms\n",
    "\n",
    "random.seed(100)"
   ]
  },
  {
   "cell_type": "code",
   "execution_count": 3,
   "metadata": {},
   "outputs": [],
   "source": [
    "def get_proteins(seq_dir, k):\n",
    "    \"\"\"读取氨基酸序列\"\"\"\n",
    "    proteins = defaultdict(list)\n",
    "    for orga in organisms:\n",
    "        # 序列文件\n",
    "        orga_fasta_fp = os.path.join(seq_dir, orga+\"_test.fasta\")\n",
    "        lines = open(orga_fasta_fp, \"r\").readlines()\n",
    "        selected_lines = random.sample(lines, k=min(len(lines), k))\n",
    "        proteins[orga] = selected_lines\n",
    "\n",
    "    return proteins"
   ]
  },
  {
   "cell_type": "code",
   "execution_count": 4,
   "metadata": {},
   "outputs": [
    {
     "ename": "FileNotFoundError",
     "evalue": "[Errno 2] No such file or directory: './data/dscript/processed/seqs/ecoli_test.fasta'",
     "output_type": "error",
     "traceback": [
      "\u001b[0;31m---------------------------------------------------------------------------\u001b[0m",
      "\u001b[0;31mFileNotFoundError\u001b[0m                         Traceback (most recent call last)",
      "\u001b[1;32m/Users/ys/workspace/ExplainablePPI/experiments/1.acid_classify/data/randomly_select_protein.ipynb Cell 3'\u001b[0m in \u001b[0;36m<cell line: 3>\u001b[0;34m()\u001b[0m\n\u001b[1;32m      <a href='vscode-notebook-cell:/Users/ys/workspace/ExplainablePPI/experiments/1.acid_classify/data/randomly_select_protein.ipynb#ch0000002?line=0'>1</a>\u001b[0m seq_dir \u001b[39m=\u001b[39m \u001b[39m\"\u001b[39m\u001b[39m./data/dscript/processed/seqs\u001b[39m\u001b[39m\"\u001b[39m\n\u001b[0;32m----> <a href='vscode-notebook-cell:/Users/ys/workspace/ExplainablePPI/experiments/1.acid_classify/data/randomly_select_protein.ipynb#ch0000002?line=2'>3</a>\u001b[0m train_proteins \u001b[39m=\u001b[39m get_proteins(seq_dir\u001b[39m=\u001b[39;49mseq_dir, k\u001b[39m=\u001b[39;49m\u001b[39m80\u001b[39;49m)\n\u001b[1;32m      <a href='vscode-notebook-cell:/Users/ys/workspace/ExplainablePPI/experiments/1.acid_classify/data/randomly_select_protein.ipynb#ch0000002?line=3'>4</a>\u001b[0m test_proteins \u001b[39m=\u001b[39m get_proteins(seq_dir\u001b[39m=\u001b[39mseq_dir, k\u001b[39m=\u001b[39m\u001b[39m20\u001b[39m)\n\u001b[1;32m      <a href='vscode-notebook-cell:/Users/ys/workspace/ExplainablePPI/experiments/1.acid_classify/data/randomly_select_protein.ipynb#ch0000002?line=5'>6</a>\u001b[0m os\u001b[39m.\u001b[39mmakedirs(\u001b[39m\"\u001b[39m\u001b[39m./experiments/1.acid_classify/data/train\u001b[39m\u001b[39m\"\u001b[39m, exist_ok\u001b[39m=\u001b[39m\u001b[39mTrue\u001b[39;00m)\n",
      "\u001b[1;32m/Users/ys/workspace/ExplainablePPI/experiments/1.acid_classify/data/randomly_select_protein.ipynb Cell 2'\u001b[0m in \u001b[0;36mget_proteins\u001b[0;34m(seq_dir, k)\u001b[0m\n\u001b[1;32m      <a href='vscode-notebook-cell:/Users/ys/workspace/ExplainablePPI/experiments/1.acid_classify/data/randomly_select_protein.ipynb#ch0000001?line=3'>4</a>\u001b[0m \u001b[39mfor\u001b[39;00m orga \u001b[39min\u001b[39;00m organisms:\n\u001b[1;32m      <a href='vscode-notebook-cell:/Users/ys/workspace/ExplainablePPI/experiments/1.acid_classify/data/randomly_select_protein.ipynb#ch0000001?line=4'>5</a>\u001b[0m     \u001b[39m# 序列文件\u001b[39;00m\n\u001b[1;32m      <a href='vscode-notebook-cell:/Users/ys/workspace/ExplainablePPI/experiments/1.acid_classify/data/randomly_select_protein.ipynb#ch0000001?line=5'>6</a>\u001b[0m     orga_fasta_fp \u001b[39m=\u001b[39m os\u001b[39m.\u001b[39mpath\u001b[39m.\u001b[39mjoin(seq_dir, orga\u001b[39m+\u001b[39m\u001b[39m\"\u001b[39m\u001b[39m_test.fasta\u001b[39m\u001b[39m\"\u001b[39m)\n\u001b[0;32m----> <a href='vscode-notebook-cell:/Users/ys/workspace/ExplainablePPI/experiments/1.acid_classify/data/randomly_select_protein.ipynb#ch0000001?line=6'>7</a>\u001b[0m     lines \u001b[39m=\u001b[39m \u001b[39mopen\u001b[39;49m(orga_fasta_fp, \u001b[39m\"\u001b[39;49m\u001b[39mr\u001b[39;49m\u001b[39m\"\u001b[39;49m)\u001b[39m.\u001b[39mreadlines()\n\u001b[1;32m      <a href='vscode-notebook-cell:/Users/ys/workspace/ExplainablePPI/experiments/1.acid_classify/data/randomly_select_protein.ipynb#ch0000001?line=7'>8</a>\u001b[0m     selected_lines \u001b[39m=\u001b[39m random\u001b[39m.\u001b[39msample(lines, k\u001b[39m=\u001b[39m\u001b[39mmin\u001b[39m(\u001b[39mlen\u001b[39m(lines), k))\n\u001b[1;32m      <a href='vscode-notebook-cell:/Users/ys/workspace/ExplainablePPI/experiments/1.acid_classify/data/randomly_select_protein.ipynb#ch0000001?line=8'>9</a>\u001b[0m     proteins[orga] \u001b[39m=\u001b[39m selected_lines\n",
      "\u001b[0;31mFileNotFoundError\u001b[0m: [Errno 2] No such file or directory: './data/dscript/processed/seqs/ecoli_test.fasta'"
     ]
    }
   ],
   "source": [
    "seq_dir = \"./data/dscript/processed/seqs\"\n",
    "\n",
    "train_proteins = get_proteins(seq_dir=seq_dir, k=80)\n",
    "test_proteins = get_proteins(seq_dir=seq_dir, k=20)\n",
    "\n",
    "os.makedirs(\"./experiments/1.acid_classify/data/train\", exist_ok=True)\n",
    "os.makedirs(\"./experiments/1.acid_classify/data/test\", exist_ok=True)\n",
    "\n",
    "test_num = train_num = 0\n",
    "for orga in test_proteins:\n",
    "    for line in test_proteins[orga]:\n",
    "        test_num += len(line.split()[1])\n",
    "    for line in train_proteins[orga]:\n",
    "        train_num += len(line.split()[1])\n",
    "print(train_num, test_num)\n",
    "\n",
    "for orga in test_proteins:\n",
    "    test_lines = test_proteins[orga]\n",
    "    with open(f\"./experiments/1.acid_classify/data/test/{orga}.seq\", \"w\") as f:\n",
    "        f.writelines(test_lines)\n",
    "    \n",
    "    train_lines = train_proteins[orga]\n",
    "    with open(f\"./experiments/1.acid_classify/data/train/{orga}.seq\", \"w\") as f:\n",
    "        f.writelines(train_lines)\n",
    "\n"
   ]
  }
 ],
 "metadata": {
  "interpreter": {
   "hash": "30a838c75cc4612b1cf73b05e007116dd752e2898f6b85406ca66dc7fdb159dd"
  },
  "kernelspec": {
   "display_name": "Python 3.10.4 ('plot')",
   "language": "python",
   "name": "python3"
  },
  "language_info": {
   "codemirror_mode": {
    "name": "ipython",
    "version": 3
   },
   "file_extension": ".py",
   "mimetype": "text/x-python",
   "name": "python",
   "nbconvert_exporter": "python",
   "pygments_lexer": "ipython3",
   "version": "3.10.4"
  },
  "orig_nbformat": 4
 },
 "nbformat": 4,
 "nbformat_minor": 2
}

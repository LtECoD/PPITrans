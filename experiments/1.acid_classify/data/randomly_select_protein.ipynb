{
 "cells": [
  {
   "cell_type": "code",
   "execution_count": 1,
   "metadata": {},
   "outputs": [
    {
     "name": "stderr",
     "output_type": "stream",
     "text": [
      "/home/ys/anaconda3/envs/workspace/lib/python3.8/site-packages/tqdm/auto.py:22: TqdmWarning: IProgress not found. Please update jupyter and ipywidgets. See https://ipywidgets.readthedocs.io/en/stable/user_install.html\n",
      "  from .autonotebook import tqdm as notebook_tqdm\n"
     ]
    }
   ],
   "source": [
    "import os\n",
    "import re\n",
    "import random\n",
    "from collections import defaultdict\n",
    "os.chdir(\"/home/ys/ExplainablePPI\")\n",
    "from experiments.utils import organisms\n",
    "\n",
    "random.seed(100)"
   ]
  },
  {
   "cell_type": "code",
   "execution_count": 2,
   "metadata": {},
   "outputs": [],
   "source": [
    "def get_proteins(seq_dir, k):\n",
    "    \"\"\"读取氨基酸序列\"\"\"\n",
    "    proteins = defaultdict(list)\n",
    "    for orga in organisms:\n",
    "        # 序列文件\n",
    "        orga_fasta_fp = os.path.join(seq_dir, orga+\"_test.fasta\")\n",
    "        lines = open(orga_fasta_fp, \"r\").readlines()\n",
    "        selected_lines = random.sample(lines, k=min(len(lines), k))\n",
    "        proteins[orga] = selected_lines\n",
    "\n",
    "    return proteins"
   ]
  },
  {
   "cell_type": "code",
   "execution_count": 3,
   "metadata": {},
   "outputs": [],
   "source": [
    "seq_dir = \"./data/dscript/processed/seqs\"\n",
    "\n",
    "train_proteins = get_proteins(seq_dir=seq_dir, k=80)\n",
    "test_proteins = get_proteins(seq_dir=seq_dir, k=20)\n",
    "\n",
    "os.makedirs(\"./experiments/1.acid_classify/data/train\", exist_ok=True)\n",
    "os.makedirs(\"./experiments/1.acid_classify/data/test\", exist_ok=True)\n",
    "\n",
    "for orga in test_proteins:\n",
    "    test_lines = test_proteins[orga]\n",
    "    with open(f\"./experiments/1.acid_classify/data/test/{orga}.seq\", \"w\") as f:\n",
    "        f.writelines(test_lines)\n",
    "    \n",
    "    train_lines = train_proteins[orga]\n",
    "    with open(f\"./experiments/1.acid_classify/data/train/{orga}.seq\", \"w\") as f:\n",
    "        f.writelines(train_lines)\n",
    "\n"
   ]
  }
 ],
 "metadata": {
  "interpreter": {
   "hash": "d87a92dc5e820933ce1158afb1b057ba0389716ff9ef4f91230a9bbd9be5ff60"
  },
  "kernelspec": {
   "display_name": "Python 3.8.12 ('workspace')",
   "language": "python",
   "name": "python3"
  },
  "language_info": {
   "codemirror_mode": {
    "name": "ipython",
    "version": 3
   },
   "file_extension": ".py",
   "mimetype": "text/x-python",
   "name": "python",
   "nbconvert_exporter": "python",
   "pygments_lexer": "ipython3",
   "version": "3.8.13"
  },
  "orig_nbformat": 4
 },
 "nbformat": 4,
 "nbformat_minor": 2
}

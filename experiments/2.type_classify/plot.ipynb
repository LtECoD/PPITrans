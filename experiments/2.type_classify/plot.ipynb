{
 "cells": [
  {
   "cell_type": "code",
   "execution_count": 10,
   "metadata": {},
   "outputs": [],
   "source": [
    "import os\n",
    "import numpy as np\n",
    "import matplotlib.pyplot as plt\n",
    "from collections import defaultdict\n",
    "\n",
    "plt.rcParams['font.family']=['Cambria'] # 用来正常显示中文标签\n",
    "plt.rcParams['axes.unicode_minus']=False # 用来正常显示负号\n",
    "\n",
    "#! 根据模型修改\n",
    "# ppi, ppi-woppm, rnn, rnn-woppm\n",
    "model_name = \"ppi-woppm\""
   ]
  },
  {
   "cell_type": "code",
   "execution_count": 11,
   "metadata": {},
   "outputs": [],
   "source": [
    "results_dir = f\"./results/{model_name}\"\n",
    "values = defaultdict(list)\n",
    "errors = defaultdict(list)\n",
    "layers_num = len(os.listdir(results_dir))\n",
    "for fn in ['emb'] + list(range(layers_num-1)):\n",
    "    lines = open(os.path.join(results_dir, str(fn)+\".eval\"), \"r\").readlines()\n",
    "    for line in lines:\n",
    "        orga, avg, stdev, _min, _max = line.strip().split()\n",
    "        values[orga].append(float(avg))\n",
    "        errors[orga].append(float(stdev))"
   ]
  },
  {
   "cell_type": "code",
   "execution_count": 12,
   "metadata": {},
   "outputs": [
    {
     "data": {
      "image/png": "[encoded data removed]",
      "text/plain": [
       "<Figure size 432x288 with 1 Axes>"
      ]
     },
     "metadata": {
      "needs_background": "light"
     },
     "output_type": "display_data"
    }
   ],
   "source": [
    "fig = plt.subplot()\n",
    "xs = list(range(1, 11))\n",
    "xticks = [\"emb\", \"proj\", \"1st\", \"2nd\", \"3rd\", \"4th\", \"5th\", \"6th\", \"7th\", \"8th\"]\n",
    "\n",
    "xs = xs[:layers_num]\n",
    "xticks = xticks[:layers_num]\n",
    "xlim = layers_num + 0.5\n",
    "\n",
    "fig.set_xlim(0.5, xlim, 1)\n",
    "fig.set_ylim(0, 1.05)\n",
    "fig.set_xlabel(\"layer\")\n",
    "fig.set_ylabel(\"Type Accuracy\")\n",
    "fig.set_xticks(range(1, layers_num+1), xticks)\n",
    "# fig.grid(axis=\"y\", linestyle=\"--\")\n",
    "\n",
    "for idx, orga in enumerate(values):\n",
    "    fig.errorbar(xs, values[orga], yerr=errors[orga], label=orga, capsize=3, marker=\"o\", ms=4)\n",
    "    \n",
    "fig.legend(frameon=False)\n",
    "plt.savefig(f\"./figure-{model_name}.pdf\", bbox_inches='tight')\n",
    "\n"
   ]
  }
 ],
 "metadata": {
  "interpreter": {
   "hash": "d87a92dc5e820933ce1158afb1b057ba0389716ff9ef4f91230a9bbd9be5ff60"
  },
  "kernelspec": {
   "display_name": "Python 3.8.12 ('workspace')",
   "language": "python",
   "name": "python3"
  },
  "language_info": {
   "codemirror_mode": {
    "name": "ipython",
    "version": 3
   },
   "file_extension": ".py",
   "mimetype": "text/x-python",
   "name": "python",
   "nbconvert_exporter": "python",
   "pygments_lexer": "ipython3",
   "version": "3.8.13"
  },
  "orig_nbformat": 4
 },
 "nbformat": 4,
 "nbformat_minor": 2
}

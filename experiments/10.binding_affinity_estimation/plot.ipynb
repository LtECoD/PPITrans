{
 "cells": [
  {
   "cell_type": "code",
   "execution_count": 1,
   "metadata": {},
   "outputs": [],
   "source": [
    "import os\n",
    "import numpy as np\n",
    "import matplotlib.pyplot as plt\n",
    "from collections import defaultdict\n",
    "\n",
    "plt.rc('font', family=\"Cambria\")\n",
    "\n",
    "#! 根据模型修改\n",
    "# ppi, ppi-woppm, rnn, rnn-woppm\n",
    "model_name = \"ppi\""
   ]
  },
  {
   "cell_type": "code",
   "execution_count": 2,
   "metadata": {},
   "outputs": [],
   "source": [
    "results_dir = f\"./results/{model_name}\"\n",
    "values = []\n",
    "errors = []\n",
    "layers_num = len(os.listdir(results_dir))\n",
    "for fn in ['emb'] + list(range(layers_num-1)):\n",
    "    lines = open(os.path.join(results_dir, f\"{str(fn)}\"+\".eval\"), \"r\").readlines()\n",
    "    for line in lines:\n",
    "        avg, std, _min, _max = line.strip().split()\n",
    "        values.append(float(avg))\n",
    "        errors.append(float(std))\n"
   ]
  },
  {
   "cell_type": "code",
   "execution_count": 3,
   "metadata": {},
   "outputs": [
    {
     "name": "stderr",
     "output_type": "stream",
     "text": [
      "No artists with labels found to put in legend.  Note that artists whose label start with an underscore are ignored when legend() is called with no argument.\n",
      "findfont: Font family ['Cambria'] not found. Falling back to DejaVu Sans.\n"
     ]
    },
    {
     "name": "stdout",
     "output_type": "stream",
     "text": [
      "0.081-0.01\n",
      "0.036-0.008\n",
      "0.033-0.004\n",
      "0.03-0.006\n",
      "0.03-0.003\n",
      "0.029-0.007\n",
      "0.028-0.005\n",
      "0.029-0.006\n",
      "0.029-0.004\n",
      "0.029-0.005\n"
     ]
    },
    {
     "data": {
      "image/png": "[encoded data removed]",
      "text/plain": [
       "<Figure size 576x360 with 1 Axes>"
      ]
     },
     "metadata": {
      "needs_background": "light"
     },
     "output_type": "display_data"
    }
   ],
   "source": [
    "# fig, subs = plt.subplots(1, 2, figsize=(10, 5))\n",
    "plt.figure(figsize=(8, 5))\n",
    "fig = plt.subplot()\n",
    "\n",
    "xs = list(range(1, 11))\n",
    "xticks = [\"emb\", \"proj\", \"1st\", \"2nd\", \"3rd\", \"4th\", \"5th\", \"6th\", \"7th\", \"8th\"]\n",
    "colors = [\"#407088\", \"#a37eba\"]\n",
    "\n",
    "xs = xs[:layers_num]\n",
    "xticks = xticks[:layers_num]\n",
    "xlim = layers_num + 0.5\n",
    "\n",
    "fig.set_xlim(0.5, xlim, 1)\n",
    "# fig.set_ylim(0, 1.05)\n",
    "fig.set_xlabel(\"layer\")\n",
    "fig.set_ylabel(\"Contact Map F1 Score\")\n",
    "fig.set_xticks(range(1, layers_num+1), xticks)\n",
    "\n",
    "fig.errorbar(xs, values, yerr=errors, capsize=3, marker=\"o\", ms=4)\n",
    "\n",
    "for idx in range(len(values)):\n",
    "    print(f\"{round(values[idx], 3)}-{round(errors[idx], 3)}\")\n",
    "\n",
    "fig.legend(frameon=False)\n",
    "    \n",
    "plt.savefig(f\"./figure-{model_name}.pdf\", bbox_inches='tight')"
   ]
  }
 ],
 "metadata": {
  "interpreter": {
   "hash": "30a838c75cc4612b1cf73b05e007116dd752e2898f6b85406ca66dc7fdb159dd"
  },
  "kernelspec": {
   "display_name": "Python 3.10.4 ('plot')",
   "language": "python",
   "name": "python3"
  },
  "language_info": {
   "codemirror_mode": {
    "name": "ipython",
    "version": 3
   },
   "file_extension": ".py",
   "mimetype": "text/x-python",
   "name": "python",
   "nbconvert_exporter": "python",
   "pygments_lexer": "ipython3",
   "version": "3.10.4"
  },
  "orig_nbformat": 4
 },
 "nbformat": 4,
 "nbformat_minor": 2
}
